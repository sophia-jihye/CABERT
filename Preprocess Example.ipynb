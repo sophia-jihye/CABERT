{
 "cells": [
  {
   "cell_type": "code",
   "execution_count": 1,
   "id": "718c3b71",
   "metadata": {},
   "outputs": [],
   "source": [
    "import os\n",
    "import pandas as pd"
   ]
  },
  {
   "cell_type": "code",
   "execution_count": 2,
   "id": "40068d14",
   "metadata": {},
   "outputs": [],
   "source": [
    "from Preprocessor import Preprocessor\n",
    "preprocessor = Preprocessor(root_dir='/media/dmlab/My Passport/DATA/CABERT')"
   ]
  },
  {
   "cell_type": "markdown",
   "id": "73d27862",
   "metadata": {},
   "source": [
    "### Post-training dataset"
   ]
  },
  {
   "cell_type": "code",
   "execution_count": 22,
   "id": "c06dd6a9",
   "metadata": {},
   "outputs": [
    {
     "data": {
      "text/plain": [
       "('1018724',\n",
       " 'We completed our initial public offering in May 1997 and our common stock is listed on the NASDAQ Global Select Market under the symbol AMZN.As used herein, Amazon.com, we, our, and similar terms include Amazon.com, Inc.')"
      ]
     },
     "execution_count": 22,
     "metadata": {},
     "output_type": "execute_result"
    }
   ],
   "source": [
    "cik = \"1018724\"\n",
    "origin_sent = \"We completed our initial public offering in May 1997 and our common stock is listed on the NASDAQ Global Select Market under the symbol AMZN.As used herein, Amazon.com, we, our, and similar terms include Amazon.com, Inc.\"\n",
    "cik, origin_sent"
   ]
  },
  {
   "cell_type": "code",
   "execution_count": 23,
   "id": "41ef4fba",
   "metadata": {},
   "outputs": [
    {
     "name": "stdout",
     "output_type": "stream",
     "text": [
      "[' amazon com inc ', ' amazon com ', ' amazon ', 'we ', 'the company ', ' amzn ']\n",
      "amazon com inc\n"
     ]
    }
   ],
   "source": [
    "subnames, fullname = preprocessor.subnames_of_company_name(cik)\n",
    "print(subnames)\n",
    "print(fullname)"
   ]
  },
  {
   "cell_type": "code",
   "execution_count": 24,
   "id": "a5e5f515",
   "metadata": {},
   "outputs": [
    {
     "data": {
      "text/plain": [
       "'we completed our initial public offering in may 1997 and our common stock is listed on the nasdaq global select market under the symbol amzn as used herein amazon com we our and similar terms include amazon com inc '"
      ]
     },
     "execution_count": 24,
     "metadata": {},
     "output_type": "execute_result"
    }
   ],
   "source": [
    "origin_sent = preprocessor.clean(origin_sent)\n",
    "origin_sent"
   ]
  },
  {
   "cell_type": "code",
   "execution_count": 25,
   "id": "81b7516a",
   "metadata": {},
   "outputs": [
    {
     "data": {
      "text/plain": [
       "' amazon com inc completed our initial public offering in may 1997 and our common stock is listed on the nasdaq global select market under the symbol amazon com inc as used herein amazon com inc com inc  amazon com inc our and similar terms include amazon com inc com inc inc '"
      ]
     },
     "execution_count": 25,
     "metadata": {},
     "output_type": "execute_result"
    }
   ],
   "source": [
    "origin_sent = preprocessor.replace_subnames_to_target(origin_sent, subnames, fullname)\n",
    "origin_sent"
   ]
  },
  {
   "cell_type": "code",
   "execution_count": 28,
   "id": "0c86cc5a",
   "metadata": {},
   "outputs": [
    {
     "data": {
      "text/plain": [
       "'amazon com inc completed our initial public offering in may 1997 and our common stock is listed on the nasdaq global select market under the symbol amazon com inc as used herein amazon com inc com inc amazon com inc our and similar terms include amazon com inc com inc inc'"
      ]
     },
     "execution_count": 28,
     "metadata": {},
     "output_type": "execute_result"
    }
   ],
   "source": [
    "origin_sent = preprocessor.trim(origin_sent)\n",
    "origin_sent"
   ]
  },
  {
   "cell_type": "code",
   "execution_count": 31,
   "id": "71d37e0c",
   "metadata": {},
   "outputs": [
    {
     "data": {
      "text/plain": [
       "True"
      ]
     },
     "execution_count": 31,
     "metadata": {},
     "output_type": "execute_result"
    }
   ],
   "source": [
    "fullname in origin_sent"
   ]
  },
  {
   "cell_type": "code",
   "execution_count": 32,
   "id": "7ee3405d",
   "metadata": {},
   "outputs": [
    {
     "data": {
      "text/plain": [
       "True"
      ]
     },
     "execution_count": 32,
     "metadata": {},
     "output_type": "execute_result"
    }
   ],
   "source": [
    "temp = 'ABC amazon com inc'\n",
    "fullname in temp"
   ]
  },
  {
   "cell_type": "code",
   "execution_count": 33,
   "id": "af5d0c43",
   "metadata": {},
   "outputs": [
    {
     "data": {
      "text/plain": [
       "False"
      ]
     },
     "execution_count": 33,
     "metadata": {},
     "output_type": "execute_result"
    }
   ],
   "source": [
    "temp = 'ABC'\n",
    "fullname in temp"
   ]
  },
  {
   "cell_type": "markdown",
   "id": "89f41a27",
   "metadata": {},
   "source": [
    "### Fine-tuning dataset"
   ]
  },
  {
   "cell_type": "code",
   "execution_count": 13,
   "id": "ab346ef2",
   "metadata": {},
   "outputs": [
    {
     "data": {
      "text/plain": [
       "'$WMT reports 63% rise in online sales, but can they stave off the e-commerce giant $AMZN'"
      ]
     },
     "execution_count": 13,
     "metadata": {},
     "output_type": "execute_result"
    }
   ],
   "source": [
    "sent = '$WMT reports 63% rise in online sales, but can they stave off the e-commerce giant $AMZN'\n",
    "sent"
   ]
  },
  {
   "cell_type": "code",
   "execution_count": 14,
   "id": "f83532bf",
   "metadata": {},
   "outputs": [
    {
     "data": {
      "text/plain": [
       "'$wmt reports 63 rise in online sales but can they stave off the e commerce giant $amzn'"
      ]
     },
     "execution_count": 14,
     "metadata": {},
     "output_type": "execute_result"
    }
   ],
   "source": [
    "sent = preprocessor.clean(sent)\n",
    "sent"
   ]
  },
  {
   "cell_type": "code",
   "execution_count": 15,
   "id": "df72799e",
   "metadata": {},
   "outputs": [
    {
     "data": {
      "text/plain": [
       "'walmart inc  reports 63 rise in online sales but can they stave off the e commerce giant amazon com inc'"
      ]
     },
     "execution_count": 15,
     "metadata": {},
     "output_type": "execute_result"
    }
   ],
   "source": [
    "sent = preprocessor.convert_ticker_with_cashtag_to_name(sent)\n",
    "sent"
   ]
  },
  {
   "cell_type": "code",
   "execution_count": 16,
   "id": "db356894",
   "metadata": {},
   "outputs": [
    {
     "data": {
      "text/plain": [
       "'walmart inc reports 63 rise in online sales but can they stave off the e commerce giant amazon com inc'"
      ]
     },
     "execution_count": 16,
     "metadata": {},
     "output_type": "execute_result"
    }
   ],
   "source": [
    "sent = preprocessor.trim(sent)\n",
    "sent"
   ]
  }
 ],
 "metadata": {
  "kernelspec": {
   "display_name": "torchtext",
   "language": "python",
   "name": "torchtext"
  },
  "language_info": {
   "codemirror_mode": {
    "name": "ipython",
    "version": 3
   },
   "file_extension": ".py",
   "mimetype": "text/x-python",
   "name": "python",
   "nbconvert_exporter": "python",
   "pygments_lexer": "ipython3",
   "version": "3.6.5"
  }
 },
 "nbformat": 4,
 "nbformat_minor": 5
}
