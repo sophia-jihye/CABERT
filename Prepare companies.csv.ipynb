{
 "cells": [
  {
   "cell_type": "code",
   "execution_count": 1,
   "id": "8a787ad7",
   "metadata": {},
   "outputs": [],
   "source": [
    "import pandas as pd \n",
    "import os\n",
    "from tqdm import tqdm\n",
    "tqdm.pandas()\n",
    "from sec_cik_mapper import StockMapper"
   ]
  },
  {
   "cell_type": "code",
   "execution_count": 2,
   "id": "cc2b1f9d",
   "metadata": {},
   "outputs": [],
   "source": [
    "save_companies_filepath = '/media/dmlab/My Passport/DATA/CABERT/companies_stockmapper.csv'"
   ]
  },
  {
   "cell_type": "markdown",
   "id": "d2fb3456",
   "metadata": {},
   "source": [
    "# Company Names\n",
    "\n",
    "### 기업명 예시\n",
    "* Ticker: **AMZN** | BAC\n",
    "* StockMapper (10-K와 일치): **Amazon Com Inc** | Bank Of America Corp /De/\n",
    "* 10-K: **AMAZON COM INC** | Bank Of America Corp /De/\n",
    "\n",
    "NEN 필요한 케이스\n",
    "* Cresci et al., companies.csv: Amazon.com, Inc. | Bank of America Corp\n",
    "* Wikipedia: Amazon (company) | Bank of America"
   ]
  },
  {
   "cell_type": "code",
   "execution_count": 4,
   "id": "6fcc9d8a",
   "metadata": {},
   "outputs": [
    {
     "name": "stdout",
     "output_type": "stream",
     "text": [
      "Created /media/dmlab/My Passport/DATA/fin_tweet_spam/companies_stockmapper.csv\n",
      "12214\n"
     ]
    },
    {
     "data": {
      "text/html": [
       "<div>\n",
       "<style scoped>\n",
       "    .dataframe tbody tr th:only-of-type {\n",
       "        vertical-align: middle;\n",
       "    }\n",
       "\n",
       "    .dataframe tbody tr th {\n",
       "        vertical-align: top;\n",
       "    }\n",
       "\n",
       "    .dataframe thead th {\n",
       "        text-align: right;\n",
       "    }\n",
       "</style>\n",
       "<table border=\"1\" class=\"dataframe\">\n",
       "  <thead>\n",
       "    <tr style=\"text-align: right;\">\n",
       "      <th></th>\n",
       "      <th>CIK</th>\n",
       "      <th>Ticker</th>\n",
       "      <th>Name</th>\n",
       "      <th>Exchange</th>\n",
       "    </tr>\n",
       "  </thead>\n",
       "  <tbody>\n",
       "    <tr>\n",
       "      <th>0</th>\n",
       "      <td>1750</td>\n",
       "      <td>AIR</td>\n",
       "      <td>Aar Corp</td>\n",
       "      <td>NYSE</td>\n",
       "    </tr>\n",
       "    <tr>\n",
       "      <th>1</th>\n",
       "      <td>1800</td>\n",
       "      <td>ABT</td>\n",
       "      <td>Abbott Laboratories</td>\n",
       "      <td>NYSE</td>\n",
       "    </tr>\n",
       "    <tr>\n",
       "      <th>2</th>\n",
       "      <td>1961</td>\n",
       "      <td>WDDD</td>\n",
       "      <td>Worlds Inc</td>\n",
       "      <td>OTC</td>\n",
       "    </tr>\n",
       "    <tr>\n",
       "      <th>3</th>\n",
       "      <td>2098</td>\n",
       "      <td>ACU</td>\n",
       "      <td>Acme United Corp</td>\n",
       "      <td>NYSE</td>\n",
       "    </tr>\n",
       "    <tr>\n",
       "      <th>4</th>\n",
       "      <td>2178</td>\n",
       "      <td>AE</td>\n",
       "      <td>Adams Resources &amp; Energy, Inc.</td>\n",
       "      <td>NYSE</td>\n",
       "    </tr>\n",
       "  </tbody>\n",
       "</table>\n",
       "</div>"
      ],
      "text/plain": [
       "    CIK Ticker                            Name Exchange\n",
       "0  1750    AIR                        Aar Corp     NYSE\n",
       "1  1800    ABT             Abbott Laboratories     NYSE\n",
       "2  1961   WDDD                      Worlds Inc      OTC\n",
       "3  2098    ACU                Acme United Corp     NYSE\n",
       "4  2178     AE  Adams Resources & Energy, Inc.     NYSE"
      ]
     },
     "execution_count": 4,
     "metadata": {},
     "output_type": "execute_result"
    }
   ],
   "source": [
    "stockmapper = StockMapper()\n",
    "stockmapper.save_metadata_to_csv(save_companies_filepath)\n",
    "print('Created {}'.format(save_companies_filepath))\n",
    "\n",
    "company_df = pd.read_csv(save_companies_filepath)\n",
    "print(len(company_df))\n",
    "company_df.head()"
   ]
  },
  {
   "cell_type": "markdown",
   "id": "5f96c5be",
   "metadata": {},
   "source": [
    "### lowercase & remove special characters (ex. , .)"
   ]
  },
  {
   "cell_type": "code",
   "execution_count": 5,
   "id": "b5cab628",
   "metadata": {},
   "outputs": [
    {
     "name": "stdout",
     "output_type": "stream",
     "text": [
      "Created /media/dmlab/My Passport/DATA/fin_tweet_spam/companies_stockmapper.csv\n"
     ]
    },
    {
     "data": {
      "text/html": [
       "<div>\n",
       "<style scoped>\n",
       "    .dataframe tbody tr th:only-of-type {\n",
       "        vertical-align: middle;\n",
       "    }\n",
       "\n",
       "    .dataframe tbody tr th {\n",
       "        vertical-align: top;\n",
       "    }\n",
       "\n",
       "    .dataframe thead th {\n",
       "        text-align: right;\n",
       "    }\n",
       "</style>\n",
       "<table border=\"1\" class=\"dataframe\">\n",
       "  <thead>\n",
       "    <tr style=\"text-align: right;\">\n",
       "      <th></th>\n",
       "      <th>CIK</th>\n",
       "      <th>Ticker</th>\n",
       "      <th>Name</th>\n",
       "      <th>Exchange</th>\n",
       "    </tr>\n",
       "  </thead>\n",
       "  <tbody>\n",
       "    <tr>\n",
       "      <th>0</th>\n",
       "      <td>1750</td>\n",
       "      <td>air</td>\n",
       "      <td>aar corp</td>\n",
       "      <td>NYSE</td>\n",
       "    </tr>\n",
       "    <tr>\n",
       "      <th>1</th>\n",
       "      <td>1800</td>\n",
       "      <td>abt</td>\n",
       "      <td>abbott laboratories</td>\n",
       "      <td>NYSE</td>\n",
       "    </tr>\n",
       "    <tr>\n",
       "      <th>2</th>\n",
       "      <td>1961</td>\n",
       "      <td>wddd</td>\n",
       "      <td>worlds inc</td>\n",
       "      <td>OTC</td>\n",
       "    </tr>\n",
       "    <tr>\n",
       "      <th>3</th>\n",
       "      <td>2098</td>\n",
       "      <td>acu</td>\n",
       "      <td>acme united corp</td>\n",
       "      <td>NYSE</td>\n",
       "    </tr>\n",
       "    <tr>\n",
       "      <th>4</th>\n",
       "      <td>2178</td>\n",
       "      <td>ae</td>\n",
       "      <td>adams resources &amp; energy  inc</td>\n",
       "      <td>NYSE</td>\n",
       "    </tr>\n",
       "  </tbody>\n",
       "</table>\n",
       "</div>"
      ],
      "text/plain": [
       "    CIK Ticker                            Name Exchange\n",
       "0  1750    air                        aar corp     NYSE\n",
       "1  1800    abt             abbott laboratories     NYSE\n",
       "2  1961   wddd                      worlds inc      OTC\n",
       "3  2098    acu                acme united corp     NYSE\n",
       "4  2178     ae  adams resources & energy  inc      NYSE"
      ]
     },
     "execution_count": 5,
     "metadata": {},
     "output_type": "execute_result"
    }
   ],
   "source": [
    "removal_list =  \"‘, ’, ◇, ‘, ”,  ’, ', ·, \\“, ·, △, ●,  , ■, (, ), \\\", >>, `, /, -,∼,=,ㆍ<,>, .,?, !,【,】, …, ◆,%\"\n",
    "\n",
    "company_df['Name'] = company_df['Name'].apply(lambda x: x.translate(str.maketrans(removal_list, ' '*len(removal_list))))\n",
    "\n",
    "# lower\n",
    "for colname in ['Ticker', 'Name']:\n",
    "    company_df[colname] = company_df[colname].apply(lambda x: x.lower())\n",
    "\n",
    "company_df.to_csv(save_companies_filepath, index=False)\n",
    "print('Created {}'.format(save_companies_filepath))\n",
    "company_df.head()"
   ]
  }
 ],
 "metadata": {
  "kernelspec": {
   "display_name": "torchtext",
   "language": "python",
   "name": "torchtext"
  },
  "language_info": {
   "codemirror_mode": {
    "name": "ipython",
    "version": 3
   },
   "file_extension": ".py",
   "mimetype": "text/x-python",
   "name": "python",
   "nbconvert_exporter": "python",
   "pygments_lexer": "ipython3",
   "version": "3.6.5"
  }
 },
 "nbformat": 4,
 "nbformat_minor": 5
}
