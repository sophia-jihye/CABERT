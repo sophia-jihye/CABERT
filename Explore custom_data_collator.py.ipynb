{
 "cells": [
  {
   "cell_type": "code",
   "execution_count": 22,
   "id": "c9c4175a",
   "metadata": {},
   "outputs": [],
   "source": [
    "import random"
   ]
  },
  {
   "cell_type": "code",
   "execution_count": 1,
   "id": "f92251ef",
   "metadata": {},
   "outputs": [],
   "source": [
    "import torch\n",
    "from transformers import AutoTokenizer"
   ]
  },
  {
   "cell_type": "code",
   "execution_count": 2,
   "id": "391ee62f",
   "metadata": {},
   "outputs": [],
   "source": [
    "tokenizer = AutoTokenizer.from_pretrained('bert-base-uncased')"
   ]
  },
  {
   "cell_type": "code",
   "execution_count": 3,
   "id": "5fc8fea6",
   "metadata": {},
   "outputs": [],
   "source": [
    "from Preprocessor import Preprocessor\n",
    "preprocessor = Preprocessor(root_dir='/media/dmlab/My Passport/DATA/CABERT')"
   ]
  },
  {
   "cell_type": "code",
   "execution_count": 9,
   "id": "060b5b6d",
   "metadata": {},
   "outputs": [
    {
     "data": {
      "text/plain": [
       "['aar corp',\n",
       " 'abbott laboratories',\n",
       " 'worlds inc',\n",
       " 'acme united corp',\n",
       " 'adams resources & energy  inc ']"
      ]
     },
     "execution_count": 9,
     "metadata": {},
     "output_type": "execute_result"
    }
   ],
   "source": [
    "company_names = preprocessor.company_names\n",
    "company_names[:5]"
   ]
  },
  {
   "cell_type": "code",
   "execution_count": 12,
   "id": "13c33fc5",
   "metadata": {},
   "outputs": [
    {
     "data": {
      "text/plain": [
       "'amazon com inc completed our initial public offering in may 1997 and our common stock is listed on the nasdaq global select market under the symbol amazon com inc as used herein amazon com inc com inc amazon com inc our and similar terms include amazon com inc com inc inc'"
      ]
     },
     "execution_count": 12,
     "metadata": {},
     "output_type": "execute_result"
    }
   ],
   "source": [
    "text = 'amazon com inc completed our initial public offering in may 1997 and our common stock is listed on the nasdaq global select market under the symbol amazon com inc as used herein amazon com inc com inc amazon com inc our and similar terms include amazon com inc com inc inc'\n",
    "text"
   ]
  },
  {
   "cell_type": "code",
   "execution_count": 17,
   "id": "6168e3e8",
   "metadata": {},
   "outputs": [
    {
     "name": "stdout",
     "output_type": "stream",
     "text": [
      "['[CLS]', 'amazon', 'com', 'inc', 'completed', 'our', 'initial', 'public', 'offering', 'in', 'may', '1997', 'and', 'our', 'common', 'stock', 'is', 'listed', 'on', 'the', 'nas', '##da', '##q', 'global', 'select', 'market', 'under', 'the', 'symbol', 'amazon', 'com', 'inc', 'as', 'used', 'here', '##in', 'amazon', 'com', 'inc', 'com', 'inc', 'amazon', 'com', 'inc', 'our', 'and', 'similar', 'terms', 'include', 'amazon', 'com', 'inc', 'com', 'inc', 'inc', '[SEP]']\n"
     ]
    }
   ],
   "source": [
    "input_tokens = tokenizer.convert_ids_to_tokens(tokenizer(text)['input_ids'])\n",
    "print(input_tokens)"
   ]
  },
  {
   "cell_type": "code",
   "execution_count": 18,
   "id": "81c4c4d6",
   "metadata": {},
   "outputs": [
    {
     "data": {
      "text/plain": [
       "['amazon com inc']"
      ]
     },
     "execution_count": 18,
     "metadata": {},
     "output_type": "execute_result"
    }
   ],
   "source": [
    "company_names_selected = list(filter(lambda x: x.lower() in text.lower(), company_names))\n",
    "company_names_selected"
   ]
  },
  {
   "cell_type": "code",
   "execution_count": 19,
   "id": "0d570e43",
   "metadata": {},
   "outputs": [
    {
     "data": {
      "text/plain": [
       "['amazon', 'com', 'inc']"
      ]
     },
     "execution_count": 19,
     "metadata": {},
     "output_type": "execute_result"
    }
   ],
   "source": [
    "company_name_to_tokens = {company_name:tokenizer.convert_ids_to_tokens(tokenizer(company_name)['input_ids'])[1:-1] for company_name in company_names}\n",
    "company_name_to_tokens['amazon com inc']"
   ]
  },
  {
   "cell_type": "code",
   "execution_count": 21,
   "id": "b98e7187",
   "metadata": {},
   "outputs": [
    {
     "data": {
      "text/plain": [
       "[(1, 3), (29, 31), (36, 38), (41, 43), (49, 51)]"
      ]
     },
     "execution_count": 21,
     "metadata": {},
     "output_type": "execute_result"
    }
   ],
   "source": [
    "def find_sub_list_indices(sl,l):\n",
    "    results=[]\n",
    "    sll=len(sl)\n",
    "    for ind in (i for i,e in enumerate(l) if e==sl[0]):  \n",
    "        if l[ind:ind+sll]==sl:\n",
    "            results.append((ind,ind+sll-1))\n",
    "    return results\n",
    "\n",
    "\n",
    "range_list_of_indices = []\n",
    "for name in company_names_selected: \n",
    "    range_list_of_indices.extend(find_sub_list_indices(company_name_to_tokens[name], input_tokens))\n",
    "range_list_of_indices"
   ]
  },
  {
   "cell_type": "code",
   "execution_count": 31,
   "id": "78ddda62",
   "metadata": {},
   "outputs": [
    {
     "data": {
      "text/plain": [
       "[[1, 2, 3], [29, 30, 31], [36, 37, 38], [41, 42, 43], [49, 50, 51]]"
      ]
     },
     "execution_count": 31,
     "metadata": {},
     "output_type": "execute_result"
    }
   ],
   "source": [
    "grouped_indices = [] \n",
    "for (start_idx, end_idx) in range_list_of_indices:\n",
    "    grouped_indices.append(list(range(start_idx, end_idx+1)))\n",
    "grouped_indices"
   ]
  },
  {
   "cell_type": "code",
   "execution_count": 32,
   "id": "2e9f39d0",
   "metadata": {},
   "outputs": [
    {
     "data": {
      "text/plain": [
       "[[36, 37, 38], [49, 50, 51], [1, 2, 3], [41, 42, 43], [29, 30, 31]]"
      ]
     },
     "execution_count": 32,
     "metadata": {},
     "output_type": "execute_result"
    }
   ],
   "source": [
    "random.shuffle(grouped_indices)\n",
    "grouped_indices"
   ]
  },
  {
   "cell_type": "code",
   "execution_count": 33,
   "id": "a1f8c735",
   "metadata": {},
   "outputs": [
    {
     "name": "stdout",
     "output_type": "stream",
     "text": [
      "[[4], [5], [6], [7], [8], [9], [10], [11], [12], [13], [14], [15], [16], [17], [18], [19], [20], [21], [22], [23], [24], [25], [26], [27], [28], [32], [33], [34], [35], [39], [40], [44], [45], [46], [47], [48], [52], [53], [54]]\n"
     ]
    }
   ],
   "source": [
    "# 기업명을 제외한 토큰들\n",
    "cand_indexes = []\n",
    "for idx in range(1, len(input_tokens)-2+1): # [CLS], [SEP] 제외\n",
    "    if idx in [item for sub in grouped_indices for item in sub]: \n",
    "        continue\n",
    "    else:\n",
    "        cand_indexes.append([idx])\n",
    "print(cand_indexes)"
   ]
  },
  {
   "cell_type": "code",
   "execution_count": 34,
   "id": "152f45e7",
   "metadata": {},
   "outputs": [
    {
     "name": "stdout",
     "output_type": "stream",
     "text": [
      "[[9], [34], [47], [13], [39], [18], [21], [12], [40], [26], [32], [6], [24], [17], [15], [25], [22], [27], [33], [4], [45], [46], [7], [54], [14], [10], [11], [28], [53], [44], [8], [52], [23], [16], [20], [19], [35], [48], [5]]\n"
     ]
    }
   ],
   "source": [
    "random.shuffle(cand_indexes) # 셔플링\n",
    "print(cand_indexes)"
   ]
  },
  {
   "cell_type": "code",
   "execution_count": 35,
   "id": "2aabb69c",
   "metadata": {},
   "outputs": [
    {
     "name": "stdout",
     "output_type": "stream",
     "text": [
      "[[36, 37, 38], [49, 50, 51], [1, 2, 3], [41, 42, 43], [29, 30, 31], [9], [34], [47], [13], [39], [18], [21], [12], [40], [26], [32], [6], [24], [17], [15], [25], [22], [27], [33], [4], [45], [46], [7], [54], [14], [10], [11], [28], [53], [44], [8], [52], [23], [16], [20], [19], [35], [48], [5]]\n"
     ]
    }
   ],
   "source": [
    "cand_indexes = grouped_indices + cand_indexes\n",
    "print(cand_indexes)"
   ]
  },
  {
   "cell_type": "code",
   "execution_count": null,
   "id": "594dd6f7",
   "metadata": {},
   "outputs": [],
   "source": []
  },
  {
   "cell_type": "code",
   "execution_count": null,
   "id": "1f78f9ee",
   "metadata": {},
   "outputs": [],
   "source": []
  }
 ],
 "metadata": {
  "kernelspec": {
   "display_name": "torchtext",
   "language": "python",
   "name": "torchtext"
  },
  "language_info": {
   "codemirror_mode": {
    "name": "ipython",
    "version": 3
   },
   "file_extension": ".py",
   "mimetype": "text/x-python",
   "name": "python",
   "nbconvert_exporter": "python",
   "pygments_lexer": "ipython3",
   "version": "3.6.5"
  }
 },
 "nbformat": 4,
 "nbformat_minor": 5
}
